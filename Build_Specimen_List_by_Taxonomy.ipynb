{
 "cells": [
  {
   "cell_type": "markdown",
   "metadata": {},
   "source": [
    "# A List of Specimens For all Phenoscape Taxonomy\n",
    "\n"
   ]
  },
  {
   "cell_type": "code",
   "execution_count": null,
   "metadata": {
    "collapsed": true
   },
   "outputs": [],
   "source": []
  },
  {
   "cell_type": "code",
   "execution_count": 90,
   "metadata": {
    "collapsed": false
   },
   "outputs": [],
   "source": [
    "from pyspark.sql.functions import col, isnull, lower, split, sum, regexp_replace\n",
    "from pyspark.sql.types import IntegerType"
   ]
  },
  {
   "cell_type": "code",
   "execution_count": 21,
   "metadata": {
    "collapsed": true
   },
   "outputs": [],
   "source": [
    "# Load CSV after placing it on HDFS\n",
    "ps_tax = (sqlContext\n",
    "           .read\n",
    "           .option(\"header\", \"true\")\n",
    "           .csv(\"/home/mjcollin/queryResults_phenoscape_taxonomy.csv\")\n",
    "           .cache()\n",
    "           )"
   ]
  },
  {
   "cell_type": "code",
   "execution_count": 22,
   "metadata": {
    "collapsed": false
   },
   "outputs": [
    {
     "name": "stdout",
     "output_type": "stream",
     "text": [
      "6727\n",
      "root\n",
      " |-- matrix_taxon: string (nullable = true)\n",
      " |-- vto: string (nullable = true)\n",
      " |-- vto_label: string (nullable = true)\n",
      "\n",
      "+--------------------+--------------------+--------------------+\n",
      "|        matrix_taxon|                 vto|           vto_label|\n",
      "+--------------------+--------------------+--------------------+\n",
      "|Scyliorhinus retifer|http://purl.oboli...|Scyliorhinus retifer|\n",
      "|     Mustelus laevis|http://purl.oboli...|   Mustelus mustelus|\n",
      "| Cynocephalus volans|http://purl.oboli...| Cynocephalus volans|\n",
      "+--------------------+--------------------+--------------------+\n",
      "only showing top 3 rows\n",
      "\n"
     ]
    }
   ],
   "source": [
    "print(ps_tax.count())\n",
    "ps_tax.printSchema()\n",
    "ps_tax.show(3)"
   ]
  },
  {
   "cell_type": "markdown",
   "metadata": {},
   "source": [
    "Check to see how distinct things are by vto_label"
   ]
  },
  {
   "cell_type": "code",
   "execution_count": 23,
   "metadata": {
    "collapsed": false
   },
   "outputs": [
    {
     "name": "stdout",
     "output_type": "stream",
     "text": [
      "+-------------------------+-----+\n",
      "|vto_label                |count|\n",
      "+-------------------------+-----+\n",
      "|Kassina senegalensis     |10   |\n",
      "|Plicofollis argyropleuron|9    |\n",
      "|Netuma thalassina        |9    |\n",
      "|Chrysichthys auratus     |6    |\n",
      "|Eoherpeton watsoni       |5    |\n",
      "|Brustiarius solidus      |5    |\n",
      "|Whatcheeria deltae       |5    |\n",
      "|Panderichthys rhombolepis|5    |\n",
      "|Greererpeton burkemorani |5    |\n",
      "|Crassigyrinus scoticus   |5    |\n",
      "+-------------------------+-----+\n",
      "only showing top 10 rows\n",
      "\n"
     ]
    }
   ],
   "source": [
    "(ps_tax\n",
    ".groupBy(col(\"vto_label\"))\n",
    ".count()\n",
    ".orderBy(col(\"count\"), ascending=False)\n",
    ").show(10, truncate=False)"
   ]
  },
  {
   "cell_type": "markdown",
   "metadata": {},
   "source": [
    "We need to trim this a bit to avoid multiple joined rows with a distinct. Also, set up the columns to make the join a bit shorter. Note that indexing past the lenght of an array conveniently results in a NULL, not an error."
   ]
  },
  {
   "cell_type": "code",
   "execution_count": 47,
   "metadata": {
    "collapsed": false
   },
   "outputs": [
    {
     "name": "stdout",
     "output_type": "stream",
     "text": [
      "5918\n",
      "+--------------------+--------------------+-------------+----------+\n",
      "|                 vto|           vto_label|         tok1|      tok2|\n",
      "+--------------------+--------------------+-------------+----------+\n",
      "|http://purl.oboli...| Hemibagrus guttatus|   hemibagrus|  guttatus|\n",
      "|http://purl.oboli...|Nipponocypris tem...|nipponocypris|temminckii|\n",
      "|http://purl.oboli...|      Ameiurus catus|     ameiurus|     catus|\n",
      "+--------------------+--------------------+-------------+----------+\n",
      "only showing top 3 rows\n",
      "\n"
     ]
    }
   ],
   "source": [
    "ps_tax_split = (ps_tax\n",
    ".select(col(\"vto\"), col(\"vto_label\"),\n",
    "        lower(split(col(\"vto_label\"), \" \")[0]).alias(\"tok1\"),\n",
    "        lower(split(col(\"vto_label\"), \" \")[1]).alias(\"tok2\"))\n",
    ".distinct()\n",
    ")\n",
    "print(ps_tax_split.count())\n",
    "ps_tax_split.show(3)"
   ]
  },
  {
   "cell_type": "markdown",
   "metadata": {},
   "source": [
    "Join things up"
   ]
  },
  {
   "cell_type": "code",
   "execution_count": null,
   "metadata": {
    "collapsed": true
   },
   "outputs": [],
   "source": [
    "idb_df = sqlContext.read.parquet(\"/guoda/data/idigbio-20171209T023310.parquet\")"
   ]
  },
  {
   "cell_type": "code",
   "execution_count": 48,
   "metadata": {
    "collapsed": false,
    "scrolled": true
   },
   "outputs": [],
   "source": [
    "ps_specimen_list = (ps_tax_split\n",
    "                   .join(idb_df.select(col(\"uuid\"), col(\"family\"), col(\"genus\"), col(\"specificepithet\"), col(\"geopoint\")), \n",
    "                        (col(\"tok1\") == col(\"genus\")) & (col(\"tok2\") == col(\"specificepithet\"))\n",
    "                         | (col(\"tok1\") == col(\"family\")),\n",
    "                         \"left\"\n",
    "                        )\n",
    "                    .cache()\n",
    "                   )\n",
    "#ps_specimen_list.show(3)"
   ]
  },
  {
   "cell_type": "markdown",
   "metadata": {},
   "source": [
    "The above join turned out to be about 25 minutes and it was re-calculated a lot. Write out the results and re-load them so they won't be regenerated while summarizing them below."
   ]
  },
  {
   "cell_type": "code",
   "execution_count": null,
   "metadata": {
    "collapsed": false
   },
   "outputs": [],
   "source": [
    "(ps_specimen_list\n",
    ".select(col(\"vto\"), col(\"vto_label\"), col(\"tok1\"), col(\"tok2\"), col(\"uuid\"), \n",
    "        col(\"family\"), col(\"genus\"), col(\"specificepithet\"), \n",
    "        col(\"geopoint.lat\").alias(\"lat\"),\n",
    "        col(\"geopoint.lon\").alias(\"lon\"))\n",
    ".repartition(1)\n",
    ".write\n",
    ".mode('overwrite')\n",
    ".csv(\"/tmp/pheno_specimen.csv\", header=True)\n",
    ")"
   ]
  },
  {
   "cell_type": "code",
   "execution_count": 50,
   "metadata": {
    "collapsed": true
   },
   "outputs": [],
   "source": [
    "pheno_specimen = sqlContext.read.csv(\"/tmp/pheno_specimen.csv\", header=True)"
   ]
  },
  {
   "cell_type": "code",
   "execution_count": 51,
   "metadata": {
    "collapsed": false
   },
   "outputs": [
    {
     "name": "stdout",
     "output_type": "stream",
     "text": [
      "7203147\n"
     ]
    }
   ],
   "source": [
    "print(pheno_specimen.count())"
   ]
  },
  {
   "cell_type": "code",
   "execution_count": 52,
   "metadata": {
    "collapsed": false
   },
   "outputs": [
    {
     "name": "stdout",
     "output_type": "stream",
     "text": [
      "root\n",
      " |-- vto: string (nullable = true)\n",
      " |-- vto_label: string (nullable = true)\n",
      " |-- tok1: string (nullable = true)\n",
      " |-- tok2: string (nullable = true)\n",
      " |-- uuid: string (nullable = true)\n",
      " |-- family: string (nullable = true)\n",
      " |-- genus: string (nullable = true)\n",
      " |-- specificepithet: string (nullable = true)\n",
      " |-- lat: string (nullable = true)\n",
      " |-- lon: string (nullable = true)\n",
      "\n"
     ]
    }
   ],
   "source": [
    "pheno_specimen.printSchema()"
   ]
  },
  {
   "cell_type": "markdown",
   "metadata": {},
   "source": [
    "How many specimens did we get by taxon?"
   ]
  },
  {
   "cell_type": "code",
   "execution_count": 54,
   "metadata": {
    "collapsed": false
   },
   "outputs": [],
   "source": [
    "taxa_counts = (pheno_specimen\n",
    " .groupBy(col(\"genus\"), col(\"specificepithet\"))\n",
    " .count()\n",
    " .orderBy(col(\"count\"), ascending=False)\n",
    " ).toPandas()\n",
    "#.show(100, truncate=False)"
   ]
  },
  {
   "cell_type": "code",
   "execution_count": 55,
   "metadata": {
    "collapsed": false
   },
   "outputs": [
    {
     "data": {
      "text/html": [
       "<div>\n",
       "<table border=\"1\" class=\"dataframe\">\n",
       "  <thead>\n",
       "    <tr style=\"text-align: right;\">\n",
       "      <th></th>\n",
       "      <th>genus</th>\n",
       "      <th>specificepithet</th>\n",
       "      <th>count</th>\n",
       "    </tr>\n",
       "  </thead>\n",
       "  <tbody>\n",
       "    <tr>\n",
       "      <th>0</th>\n",
       "      <td>None</td>\n",
       "      <td>None</td>\n",
       "      <td>267738</td>\n",
       "    </tr>\n",
       "    <tr>\n",
       "      <th>1</th>\n",
       "      <td>plethodon</td>\n",
       "      <td>cinereus</td>\n",
       "      <td>116788</td>\n",
       "    </tr>\n",
       "    <tr>\n",
       "      <th>2</th>\n",
       "      <td>desmognathus</td>\n",
       "      <td>ochrophaeus</td>\n",
       "      <td>57920</td>\n",
       "    </tr>\n",
       "    <tr>\n",
       "      <th>3</th>\n",
       "      <td>bufo</td>\n",
       "      <td>bufo</td>\n",
       "      <td>50825</td>\n",
       "    </tr>\n",
       "    <tr>\n",
       "      <th>4</th>\n",
       "      <td>campostoma</td>\n",
       "      <td>anomalum</td>\n",
       "      <td>41826</td>\n",
       "    </tr>\n",
       "    <tr>\n",
       "      <th>5</th>\n",
       "      <td>pimephales</td>\n",
       "      <td>notatus</td>\n",
       "      <td>41474</td>\n",
       "    </tr>\n",
       "    <tr>\n",
       "      <th>6</th>\n",
       "      <td>semotilus</td>\n",
       "      <td>atromaculatus</td>\n",
       "      <td>40452</td>\n",
       "    </tr>\n",
       "    <tr>\n",
       "      <th>7</th>\n",
       "      <td>desmognathus</td>\n",
       "      <td>fuscus</td>\n",
       "      <td>37741</td>\n",
       "    </tr>\n",
       "    <tr>\n",
       "      <th>8</th>\n",
       "      <td>lepomis</td>\n",
       "      <td>macrochirus</td>\n",
       "      <td>32457</td>\n",
       "    </tr>\n",
       "    <tr>\n",
       "      <th>9</th>\n",
       "      <td>engraulis</td>\n",
       "      <td>mordax</td>\n",
       "      <td>31650</td>\n",
       "    </tr>\n",
       "    <tr>\n",
       "      <th>10</th>\n",
       "      <td>notophthalmus</td>\n",
       "      <td>viridescens</td>\n",
       "      <td>29375</td>\n",
       "    </tr>\n",
       "    <tr>\n",
       "      <th>11</th>\n",
       "      <td>ambystoma</td>\n",
       "      <td>tigrinum</td>\n",
       "      <td>28098</td>\n",
       "    </tr>\n",
       "    <tr>\n",
       "      <th>12</th>\n",
       "      <td>plethodon</td>\n",
       "      <td>glutinosus</td>\n",
       "      <td>27647</td>\n",
       "    </tr>\n",
       "    <tr>\n",
       "      <th>13</th>\n",
       "      <td>catostomus</td>\n",
       "      <td>commersonii</td>\n",
       "      <td>27464</td>\n",
       "    </tr>\n",
       "    <tr>\n",
       "      <th>14</th>\n",
       "      <td>pimephales</td>\n",
       "      <td>vigilax</td>\n",
       "      <td>27330</td>\n",
       "    </tr>\n",
       "    <tr>\n",
       "      <th>15</th>\n",
       "      <td>batrachoseps</td>\n",
       "      <td>attenuatus</td>\n",
       "      <td>26950</td>\n",
       "    </tr>\n",
       "    <tr>\n",
       "      <th>16</th>\n",
       "      <td>notropis</td>\n",
       "      <td>atherinoides</td>\n",
       "      <td>26262</td>\n",
       "    </tr>\n",
       "    <tr>\n",
       "      <th>17</th>\n",
       "      <td>notemigonus</td>\n",
       "      <td>crysoleucas</td>\n",
       "      <td>25900</td>\n",
       "    </tr>\n",
       "    <tr>\n",
       "      <th>18</th>\n",
       "      <td>lepomis</td>\n",
       "      <td>megalotis</td>\n",
       "      <td>24666</td>\n",
       "    </tr>\n",
       "    <tr>\n",
       "      <th>19</th>\n",
       "      <td>notropis</td>\n",
       "      <td>stramineus</td>\n",
       "      <td>23960</td>\n",
       "    </tr>\n",
       "    <tr>\n",
       "      <th>20</th>\n",
       "      <td>lepomis</td>\n",
       "      <td>cyanellus</td>\n",
       "      <td>22974</td>\n",
       "    </tr>\n",
       "    <tr>\n",
       "      <th>21</th>\n",
       "      <td>ictalurus</td>\n",
       "      <td>punctatus</td>\n",
       "      <td>22418</td>\n",
       "    </tr>\n",
       "    <tr>\n",
       "      <th>22</th>\n",
       "      <td>gambusia</td>\n",
       "      <td>affinis</td>\n",
       "      <td>22071</td>\n",
       "    </tr>\n",
       "    <tr>\n",
       "      <th>23</th>\n",
       "      <td>cyprinella</td>\n",
       "      <td>lutrensis</td>\n",
       "      <td>21480</td>\n",
       "    </tr>\n",
       "    <tr>\n",
       "      <th>24</th>\n",
       "      <td>hypentelium</td>\n",
       "      <td>nigricans</td>\n",
       "      <td>20812</td>\n",
       "    </tr>\n",
       "    <tr>\n",
       "      <th>25</th>\n",
       "      <td>micropterus</td>\n",
       "      <td>salmoides</td>\n",
       "      <td>20796</td>\n",
       "    </tr>\n",
       "    <tr>\n",
       "      <th>26</th>\n",
       "      <td>luxilus</td>\n",
       "      <td>chrysocephalus</td>\n",
       "      <td>20470</td>\n",
       "    </tr>\n",
       "    <tr>\n",
       "      <th>27</th>\n",
       "      <td>gasterosteus</td>\n",
       "      <td>aculeatus</td>\n",
       "      <td>19533</td>\n",
       "    </tr>\n",
       "    <tr>\n",
       "      <th>28</th>\n",
       "      <td>dorosoma</td>\n",
       "      <td>cepedianum</td>\n",
       "      <td>19086</td>\n",
       "    </tr>\n",
       "    <tr>\n",
       "      <th>29</th>\n",
       "      <td>cyprinella</td>\n",
       "      <td>spiloptera</td>\n",
       "      <td>18852</td>\n",
       "    </tr>\n",
       "    <tr>\n",
       "      <th>30</th>\n",
       "      <td>ameiurus</td>\n",
       "      <td>natalis</td>\n",
       "      <td>18686</td>\n",
       "    </tr>\n",
       "    <tr>\n",
       "      <th>31</th>\n",
       "      <td>pimephales</td>\n",
       "      <td>promelas</td>\n",
       "      <td>17702</td>\n",
       "    </tr>\n",
       "    <tr>\n",
       "      <th>32</th>\n",
       "      <td>sorex</td>\n",
       "      <td>araneus</td>\n",
       "      <td>17617</td>\n",
       "    </tr>\n",
       "    <tr>\n",
       "      <th>33</th>\n",
       "      <td>eurycea</td>\n",
       "      <td>bislineata</td>\n",
       "      <td>17231</td>\n",
       "    </tr>\n",
       "    <tr>\n",
       "      <th>34</th>\n",
       "      <td>rhinella</td>\n",
       "      <td>marina</td>\n",
       "      <td>17041</td>\n",
       "    </tr>\n",
       "    <tr>\n",
       "      <th>35</th>\n",
       "      <td>theragra</td>\n",
       "      <td>chalcogramma</td>\n",
       "      <td>16939</td>\n",
       "    </tr>\n",
       "    <tr>\n",
       "      <th>36</th>\n",
       "      <td>ensatina</td>\n",
       "      <td>eschscholtzii</td>\n",
       "      <td>16908</td>\n",
       "    </tr>\n",
       "    <tr>\n",
       "      <th>37</th>\n",
       "      <td>esox</td>\n",
       "      <td>americanus</td>\n",
       "      <td>16864</td>\n",
       "    </tr>\n",
       "    <tr>\n",
       "      <th>38</th>\n",
       "      <td>aphredoderus</td>\n",
       "      <td>sayanus</td>\n",
       "      <td>16436</td>\n",
       "    </tr>\n",
       "    <tr>\n",
       "      <th>39</th>\n",
       "      <td>canis</td>\n",
       "      <td>lupus</td>\n",
       "      <td>16432</td>\n",
       "    </tr>\n",
       "    <tr>\n",
       "      <th>40</th>\n",
       "      <td>cyprinella</td>\n",
       "      <td>venusta</td>\n",
       "      <td>15756</td>\n",
       "    </tr>\n",
       "    <tr>\n",
       "      <th>41</th>\n",
       "      <td>ammodytes</td>\n",
       "      <td>hexapterus</td>\n",
       "      <td>15724</td>\n",
       "    </tr>\n",
       "    <tr>\n",
       "      <th>42</th>\n",
       "      <td>rhinichthys</td>\n",
       "      <td>atratulus</td>\n",
       "      <td>15598</td>\n",
       "    </tr>\n",
       "    <tr>\n",
       "      <th>43</th>\n",
       "      <td>plethodon</td>\n",
       "      <td>jordani</td>\n",
       "      <td>15229</td>\n",
       "    </tr>\n",
       "    <tr>\n",
       "      <th>44</th>\n",
       "      <td>morganucodon</td>\n",
       "      <td>watsoni</td>\n",
       "      <td>14782</td>\n",
       "    </tr>\n",
       "    <tr>\n",
       "      <th>45</th>\n",
       "      <td>tursiops</td>\n",
       "      <td>truncatus</td>\n",
       "      <td>14494</td>\n",
       "    </tr>\n",
       "    <tr>\n",
       "      <th>46</th>\n",
       "      <td>myotis</td>\n",
       "      <td>lucifugus</td>\n",
       "      <td>13848</td>\n",
       "    </tr>\n",
       "    <tr>\n",
       "      <th>47</th>\n",
       "      <td>desmognathus</td>\n",
       "      <td>monticola</td>\n",
       "      <td>13650</td>\n",
       "    </tr>\n",
       "    <tr>\n",
       "      <th>48</th>\n",
       "      <td>cottus</td>\n",
       "      <td>bairdii</td>\n",
       "      <td>13420</td>\n",
       "    </tr>\n",
       "    <tr>\n",
       "      <th>49</th>\n",
       "      <td>lythrurus</td>\n",
       "      <td>umbratilis</td>\n",
       "      <td>12656</td>\n",
       "    </tr>\n",
       "  </tbody>\n",
       "</table>\n",
       "</div>"
      ],
      "text/plain": [
       "            genus specificepithet   count\n",
       "0            None            None  267738\n",
       "1       plethodon        cinereus  116788\n",
       "2    desmognathus     ochrophaeus   57920\n",
       "3            bufo            bufo   50825\n",
       "4      campostoma        anomalum   41826\n",
       "5      pimephales         notatus   41474\n",
       "6       semotilus   atromaculatus   40452\n",
       "7    desmognathus          fuscus   37741\n",
       "8         lepomis     macrochirus   32457\n",
       "9       engraulis          mordax   31650\n",
       "10  notophthalmus     viridescens   29375\n",
       "11      ambystoma        tigrinum   28098\n",
       "12      plethodon      glutinosus   27647\n",
       "13     catostomus     commersonii   27464\n",
       "14     pimephales         vigilax   27330\n",
       "15   batrachoseps      attenuatus   26950\n",
       "16       notropis    atherinoides   26262\n",
       "17    notemigonus     crysoleucas   25900\n",
       "18        lepomis       megalotis   24666\n",
       "19       notropis      stramineus   23960\n",
       "20        lepomis       cyanellus   22974\n",
       "21      ictalurus       punctatus   22418\n",
       "22       gambusia         affinis   22071\n",
       "23     cyprinella       lutrensis   21480\n",
       "24    hypentelium       nigricans   20812\n",
       "25    micropterus       salmoides   20796\n",
       "26        luxilus  chrysocephalus   20470\n",
       "27   gasterosteus       aculeatus   19533\n",
       "28       dorosoma      cepedianum   19086\n",
       "29     cyprinella      spiloptera   18852\n",
       "30       ameiurus         natalis   18686\n",
       "31     pimephales        promelas   17702\n",
       "32          sorex         araneus   17617\n",
       "33        eurycea      bislineata   17231\n",
       "34       rhinella          marina   17041\n",
       "35       theragra    chalcogramma   16939\n",
       "36       ensatina   eschscholtzii   16908\n",
       "37           esox      americanus   16864\n",
       "38   aphredoderus         sayanus   16436\n",
       "39          canis           lupus   16432\n",
       "40     cyprinella         venusta   15756\n",
       "41      ammodytes      hexapterus   15724\n",
       "42    rhinichthys       atratulus   15598\n",
       "43      plethodon         jordani   15229\n",
       "44   morganucodon         watsoni   14782\n",
       "45       tursiops       truncatus   14494\n",
       "46         myotis       lucifugus   13848\n",
       "47   desmognathus       monticola   13650\n",
       "48         cottus         bairdii   13420\n",
       "49      lythrurus      umbratilis   12656"
      ]
     },
     "execution_count": 55,
     "metadata": {},
     "output_type": "execute_result"
    }
   ],
   "source": [
    "taxa_counts.head(50)"
   ]
  },
  {
   "cell_type": "code",
   "execution_count": 36,
   "metadata": {
    "collapsed": false
   },
   "outputs": [
    {
     "data": {
      "text/plain": [
       "<matplotlib.axes._subplots.AxesSubplot at 0x7f2fd1689780>"
      ]
     },
     "execution_count": 36,
     "metadata": {},
     "output_type": "execute_result"
    },
    {
     "data": {
      "image/png": "[encoded data removed]",
      "text/plain": [
       "<matplotlib.figure.Figure at 0x7f2fd16891d0>"
      ]
     },
     "metadata": {},
     "output_type": "display_data"
    }
   ],
   "source": [
    "%matplotlib inline\n",
    "taxa_counts.plot(y=\"count\")"
   ]
  },
  {
   "cell_type": "markdown",
   "metadata": {},
   "source": [
    "What is present in Phenoscape that didn't join in iDigBio?"
   ]
  },
  {
   "cell_type": "code",
   "execution_count": null,
   "metadata": {
    "collapsed": true
   },
   "outputs": [],
   "source": [
    "unmatched = (pheno_specimen\n",
    ".filter(isnull(col(\"uuid\")))\n",
    ".select(col(\"vto\"), col(\"tok1\"), col(\"tok2\"))\n",
    ".orderBy(col(\"vto\"))\n",
    ")\n",
    "print(unmatched.count())\n",
    "unmatched.show(100, truncate=False)"
   ]
  },
  {
   "cell_type": "markdown",
   "metadata": {
    "collapsed": true
   },
   "source": [
    "Trim things down a bit"
   ]
  },
  {
   "cell_type": "code",
   "execution_count": 64,
   "metadata": {
    "collapsed": true
   },
   "outputs": [],
   "source": [
    "fins = sqlContext.read.csv(\"/home/mjcollin/forelimb-bones-Ontotrace.csv\", header=True)\n",
    "limbs = sqlContext.read.csv(\"/home/mjcollin/fin-Ontotrace.csv\", header=True)"
   ]
  },
  {
   "cell_type": "code",
   "execution_count": 100,
   "metadata": {
    "collapsed": false
   },
   "outputs": [
    {
     "name": "stdout",
     "output_type": "stream",
     "text": [
      "root\n",
      " |-- Valid Taxon: string (nullable = true)\n",
      " |-- Valid Taxon label: string (nullable = true)\n",
      " |-- sesamoid bone of manus: string (nullable = true)\n",
      " |-- carpal bone: string (nullable = true)\n",
      " |-- metacarpal bone: string (nullable = true)\n",
      " |-- humerus: string (nullable = true)\n",
      " |-- ulna: string (nullable = true)\n",
      " |-- radius bone: string (nullable = true)\n",
      " |-- centrale (fore): string (nullable = true)\n",
      " |-- ulnare: string (nullable = true)\n",
      " |-- phalanx of manus: string (nullable = true)\n",
      " |-- intermedium: string (nullable = true)\n",
      " |-- radiale: string (nullable = true)\n",
      "\n"
     ]
    }
   ],
   "source": [
    "fins.printSchema()"
   ]
  },
  {
   "cell_type": "code",
   "execution_count": 101,
   "metadata": {
    "collapsed": true
   },
   "outputs": [],
   "source": [
    "fins = fins.withColumn(\"vto_short\", col(\"Valid Taxon\"))\n",
    "limbs = limbs.withColumn(\"vto_short\", col(\"Valid Taxon\"))\n"
   ]
  },
  {
   "cell_type": "code",
   "execution_count": 102,
   "metadata": {
    "collapsed": false
   },
   "outputs": [],
   "source": [
    "vtos_w_chars = (fins\n",
    "                .select(col(\"Valid Taxon\").alias(\"vto_short_char\"))\n",
    "               .union(limbs.select(col(\"Valid Taxon\").alias(\"vto_short_char\"))\n",
    "                     )\n",
    "               .distinct()\n",
    "               )"
   ]
  },
  {
   "cell_type": "code",
   "execution_count": 103,
   "metadata": {
    "collapsed": false
   },
   "outputs": [
    {
     "data": {
      "text/plain": [
       "[Row(vto_short_char='VTO:0003367'),\n",
       " Row(vto_short_char='VTO:9031101'),\n",
       " Row(vto_short_char='VTO:0002866'),\n",
       " Row(vto_short_char='VTO:0081407'),\n",
       " Row(vto_short_char='VTO:9020399'),\n",
       " Row(vto_short_char='VTO:0052433'),\n",
       " Row(vto_short_char='VTO:0035101'),\n",
       " Row(vto_short_char='VTO:0047200'),\n",
       " Row(vto_short_char='VTO:0056335'),\n",
       " Row(vto_short_char='VTO:0059318')]"
      ]
     },
     "execution_count": 103,
     "metadata": {},
     "output_type": "execute_result"
    }
   ],
   "source": [
    "vtos_w_chars.head(10\n",
    "                 )"
   ]
  },
  {
   "cell_type": "code",
   "execution_count": 91,
   "metadata": {
    "collapsed": false
   },
   "outputs": [
    {
     "name": "stdout",
     "output_type": "stream",
     "text": [
      "+------------------------------------------+--------------------------------------+\n",
      "|vto                                       |regexp_replace(split(vto, /)[4], _, :)|\n",
      "+------------------------------------------+--------------------------------------+\n",
      "|http://purl.obolibrary.org/obo/VTO_0044933|VTO:0044933                           |\n",
      "|http://purl.obolibrary.org/obo/VTO_0002115|VTO:0002115                           |\n",
      "|http://purl.obolibrary.org/obo/VTO_0002115|VTO:0002115                           |\n",
      "|http://purl.obolibrary.org/obo/VTO_0001560|VTO:0001560                           |\n",
      "+------------------------------------------+--------------------------------------+\n",
      "only showing top 4 rows\n",
      "\n"
     ]
    }
   ],
   "source": [
    "(pheno_specimen\n",
    " .select(col(\"vto\"), regexp_replace(split(col(\"vto\"),\"/\")[4], \"_\", \":\"))\n",
    " .show(4, truncate=False)\n",
    ")\n"
   ]
  },
  {
   "cell_type": "code",
   "execution_count": 94,
   "metadata": {
    "collapsed": false
   },
   "outputs": [],
   "source": [
    "restricted_pheno_specimen = (pheno_specimen\n",
    " .withColumn(\"vto_short\", regexp_replace(split(col(\"vto\"),\"/\")[4], \"_\", \":\"))\n",
    " .filter((col(\"lat\").isNotNull()))\n",
    " .join(vtos_w_chars, col(\"vto_short_char\") == col(\"vto_short\"))\n",
    " )"
   ]
  },
  {
   "cell_type": "code",
   "execution_count": 95,
   "metadata": {
    "collapsed": false
   },
   "outputs": [
    {
     "name": "stdout",
     "output_type": "stream",
     "text": [
      "1857068\n",
      "+------------------------------------------+----------------------+---------+-------------+------------------------------------+---------+--------+---------------+------------------+------+-----------+--------------+\n",
      "|vto                                       |vto_label             |tok1     |tok2         |uuid                                |family   |genus   |specificepithet|lat               |lon   |vto_short  |vto_short_char|\n",
      "+------------------------------------------+----------------------+---------+-------------+------------------------------------+---------+--------+---------------+------------------+------+-----------+--------------+\n",
      "|http://purl.obolibrary.org/obo/VTO_0007309|Bufo bufo             |bufo     |bufo         |af3926ad-3be8-4a3e-ab77-13977e996ca9|bufonidae|bufo    |bufo           |40.81000000000001 |-80.9 |VTO:0007309|VTO:0007309   |\n",
      "|http://purl.obolibrary.org/obo/VTO_0007362|Anaxyrus fowleri      |anaxyrus |fowleri      |47b9e6db-b470-4db3-80ef-155e6f6bfc10|bufonidae|anaxyrus|fowleri        |38.82             |-86.51|VTO:0007362|VTO:0007362   |\n",
      "|http://purl.obolibrary.org/obo/VTO_0001480|Sirenidae             |sirenidae|null         |b8fa72f2-e7c3-4480-bc37-7e352909681d|sirenidae|siren   |intermedia     |29.650000000000002|-82.32|VTO:0001480|VTO:0001480   |\n",
      "|http://purl.obolibrary.org/obo/VTO_0007309|Bufo bufo             |bufo     |bufo         |963bc76d-800d-445c-aef9-686073054cd5|bufonidae|bufo    |bufo           |37.31             |-77.51|VTO:0007309|VTO:0007309   |\n",
      "|http://purl.obolibrary.org/obo/VTO_0007450|Rhinella margaritifera|rhinella |margaritifera|f24eaf5e-04f6-4731-83b3-cfaab3410652|bufonidae|rhinella|margaritifera  |-10.43            |-71.26|VTO:0007450|VTO:0007450   |\n",
      "+------------------------------------------+----------------------+---------+-------------+------------------------------------+---------+--------+---------------+------------------+------+-----------+--------------+\n",
      "only showing top 5 rows\n",
      "\n"
     ]
    }
   ],
   "source": [
    "print(restricted_pheno_specimen.count())\n",
    "restricted_pheno_specimen.show(5, truncate=False)"
   ]
  },
  {
   "cell_type": "code",
   "execution_count": 114,
   "metadata": {
    "collapsed": false
   },
   "outputs": [],
   "source": [
    "with_chars = (restricted_pheno_specimen\n",
    ".withColumn(\"vto_short_spec\", col(\"vto_short\"))\n",
    ".join(fins, fins.vto_short == restricted_pheno_specimen.vto_short, 'left')\n",
    ".join(limbs, limbs.vto_short == restricted_pheno_specimen.vto_short, 'left')\n",
    ")"
   ]
  },
  {
   "cell_type": "code",
   "execution_count": 115,
   "metadata": {
    "collapsed": false
   },
   "outputs": [
    {
     "name": "stdout",
     "output_type": "stream",
     "text": [
      "1857068\n",
      "+------------------------------------------+----------------+---------+-------+------------------------------------+---------+--------+---------------+------------------+------+-----------+--------------+--------------+-----------+-----------------+----------------------+-----------+---------------+-------+----+-----------+---------------+------+----------------+-----------+-------+-----------+-----------+-----------------+----------+------------+-------------------+---------+\n",
      "|vto                                       |vto_label       |tok1     |tok2   |uuid                                |family   |genus   |specificepithet|lat               |lon   |vto_short  |vto_short_char|vto_short_spec|Valid Taxon|Valid Taxon label|sesamoid bone of manus|carpal bone|metacarpal bone|humerus|ulna|radius bone|centrale (fore)|ulnare|phalanx of manus|intermedium|radiale|vto_short  |Valid Taxon|Valid Taxon label|pelvic fin|pectoral fin|pelvic sucking disc|vto_short|\n",
      "+------------------------------------------+----------------+---------+-------+------------------------------------+---------+--------+---------------+------------------+------+-----------+--------------+--------------+-----------+-----------------+----------------------+-----------+---------------+-------+----+-----------+---------------+------+----------------+-----------+-------+-----------+-----------+-----------------+----------+------------+-------------------+---------+\n",
      "|http://purl.obolibrary.org/obo/VTO_0007309|Bufo bufo       |bufo     |bufo   |af3926ad-3be8-4a3e-ab77-13977e996ca9|bufonidae|bufo    |bufo           |40.81000000000001 |-80.9 |VTO:0007309|VTO:0007309   |VTO:0007309   |VTO:0007309|Bufo bufo        |?                     |?          |?              |?      |?   |?          |?              |?     |1               |?          |?      |VTO:0007309|null       |null             |null      |null        |null               |null     |\n",
      "|http://purl.obolibrary.org/obo/VTO_0007362|Anaxyrus fowleri|anaxyrus |fowleri|47b9e6db-b470-4db3-80ef-155e6f6bfc10|bufonidae|anaxyrus|fowleri        |38.82             |-86.51|VTO:0007362|VTO:0007362   |VTO:0007362   |VTO:0007362|Anaxyrus fowleri |?                     |?          |?              |?      |?   |?          |?              |?     |1               |?          |?      |VTO:0007362|null       |null             |null      |null        |null               |null     |\n",
      "|http://purl.obolibrary.org/obo/VTO_0001480|Sirenidae       |sirenidae|null   |b8fa72f2-e7c3-4480-bc37-7e352909681d|sirenidae|siren   |intermedia     |29.650000000000002|-82.32|VTO:0001480|VTO:0001480   |VTO:0001480   |VTO:0001480|Sirenidae        |?                     |?          |?              |1      |1   |1          |?              |?     |?               |?          |?      |VTO:0001480|null       |null             |null      |null        |null               |null     |\n",
      "+------------------------------------------+----------------+---------+-------+------------------------------------+---------+--------+---------------+------------------+------+-----------+--------------+--------------+-----------+-----------------+----------------------+-----------+---------------+-------+----+-----------+---------------+------+----------------+-----------+-------+-----------+-----------+-----------------+----------+------------+-------------------+---------+\n",
      "only showing top 3 rows\n",
      "\n"
     ]
    }
   ],
   "source": [
    "print(with_chars.count())\n",
    "with_chars.show(3, truncate=False)"
   ]
  },
  {
   "cell_type": "code",
   "execution_count": 111,
   "metadata": {
    "collapsed": false
   },
   "outputs": [
    {
     "name": "stdout",
     "output_type": "stream",
     "text": [
      "['vto', 'vto_label', 'tok1', 'tok2', 'uuid', 'family', 'genus', 'specificepithet', 'lat', 'lon', 'vto_short', 'vto_short_char', 'Valid Taxon', 'Valid Taxon label', 'sesamoid bone of manus', 'carpal bone', 'metacarpal bone', 'humerus', 'ulna', 'radius bone', 'centrale (fore)', 'ulnare', 'phalanx of manus', 'intermedium', 'radiale', 'vto_short', 'Valid Taxon', 'Valid Taxon label', 'pelvic fin', 'pectoral fin', 'pelvic sucking disc', 'vto_short']\n"
     ]
    }
   ],
   "source": [
    "print(with_chars.columns)"
   ]
  },
  {
   "cell_type": "code",
   "execution_count": 120,
   "metadata": {
    "collapsed": false
   },
   "outputs": [],
   "source": [
    "(with_chars\n",
    ".select(col(\"vto_short_spec\").alias(\"vto_short\"), col(\"vto_label\"), col(\"tok1\"), col(\"tok2\"), col(\"uuid\"), \n",
    "        col(\"family\"), col(\"genus\"), col(\"specificepithet\"), \n",
    "        col(\"lat\"), col(\"lon\"),\n",
    "        col(\"sesamoid bone of manus\").alias(\"char_sesamoid_bone_of_manus\"),\n",
    "        col(\"carpal bone\").alias(\"char_carpal_bone\"),\n",
    "         col(\"metacarpal bone\").alias(\"char_metacarpal_bone\"),\n",
    "         col(\"humerus\").alias(\"char_humerus\"),\n",
    "         col(\"ulna\").alias(\"char_ulna\"),\n",
    "         col(\"radius bone\").alias(\"char_radius_bone\"),\n",
    "         col(\"centrale (fore)\").alias(\"char_centrale_fore\"),\n",
    "         col(\"ulnare\").alias(\"char_ulnare\"),\n",
    "         col(\"phalanx of manus\").alias(\"char_phalanx_of_manus\"),\n",
    "         col(\"intermedium\").alias(\"char_intermedium\"),\n",
    "         col(\"radiale\").alias(\"char_radiale\"),\n",
    "         col(\"pelvic fin\").alias(\"char_pelvic_fin\"),\n",
    "         col(\"pectoral fin\").alias(\"char_pectoral_fin\"),\n",
    "         col(\"pelvic sucking disc\").alias(\"char_pelvic_sucking_disc\")\n",
    "        )\n",
    ".repartition(1)\n",
    ".write\n",
    ".mode('overwrite')\n",
    ".csv(\"/tmp/pheno_specimen_with_chars.csv\", header=True)\n",
    ")"
   ]
  }
 ],
 "metadata": {
  "kernelspec": {
   "display_name": "5 - PySpark Python3 Large",
   "language": "python",
   "name": "pyspark3-large"
  },
  "language_info": {
   "codemirror_mode": {
    "name": "ipython",
    "version": 3
   },
   "file_extension": ".py",
   "mimetype": "text/x-python",
   "name": "python",
   "nbconvert_exporter": "python",
   "pygments_lexer": "ipython3",
   "version": "3.5.2"
  }
 },
 "nbformat": 4,
 "nbformat_minor": 2
}
