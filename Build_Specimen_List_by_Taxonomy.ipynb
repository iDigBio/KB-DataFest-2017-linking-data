{
 "cells": [
  {
   "cell_type": "markdown",
   "metadata": {},
   "source": [
    "# A List of Specimens For all Phenoscape Taxonomy\n",
    "\n"
   ]
  },
  {
   "cell_type": "code",
   "execution_count": 20,
   "metadata": {
    "collapsed": true
   },
   "outputs": [],
   "source": [
    "from pyspark.sql.functions import col, isnull, lower, split, sum\n",
    "from pyspark.sql.types import IntegerType"
   ]
  },
  {
   "cell_type": "code",
   "execution_count": 21,
   "metadata": {
    "collapsed": true
   },
   "outputs": [],
   "source": [
    "# Load CSV after placing it on HDFS\n",
    "ps_tax = (sqlContext\n",
    "           .read\n",
    "           .option(\"header\", \"true\")\n",
    "           .csv(\"/home/mjcollin/queryResults_phenoscape_taxonomy.csv\")\n",
    "           .cache()\n",
    "           )"
   ]
  },
  {
   "cell_type": "code",
   "execution_count": 22,
   "metadata": {
    "collapsed": false
   },
   "outputs": [
    {
     "name": "stdout",
     "output_type": "stream",
     "text": [
      "6727\n",
      "root\n",
      " |-- matrix_taxon: string (nullable = true)\n",
      " |-- vto: string (nullable = true)\n",
      " |-- vto_label: string (nullable = true)\n",
      "\n",
      "+--------------------+--------------------+--------------------+\n",
      "|        matrix_taxon|                 vto|           vto_label|\n",
      "+--------------------+--------------------+--------------------+\n",
      "|Scyliorhinus retifer|http://purl.oboli...|Scyliorhinus retifer|\n",
      "|     Mustelus laevis|http://purl.oboli...|   Mustelus mustelus|\n",
      "| Cynocephalus volans|http://purl.oboli...| Cynocephalus volans|\n",
      "+--------------------+--------------------+--------------------+\n",
      "only showing top 3 rows\n",
      "\n"
     ]
    }
   ],
   "source": [
    "print(ps_tax.count())\n",
    "ps_tax.printSchema()\n",
    "ps_tax.show(3)"
   ]
  },
  {
   "cell_type": "markdown",
   "metadata": {},
   "source": [
    "Check to see how distinct things are by vto_label"
   ]
  },
  {
   "cell_type": "code",
   "execution_count": 23,
   "metadata": {
    "collapsed": false
   },
   "outputs": [
    {
     "name": "stdout",
     "output_type": "stream",
     "text": [
      "+-------------------------+-----+\n",
      "|vto_label                |count|\n",
      "+-------------------------+-----+\n",
      "|Kassina senegalensis     |10   |\n",
      "|Plicofollis argyropleuron|9    |\n",
      "|Netuma thalassina        |9    |\n",
      "|Chrysichthys auratus     |6    |\n",
      "|Eoherpeton watsoni       |5    |\n",
      "|Brustiarius solidus      |5    |\n",
      "|Whatcheeria deltae       |5    |\n",
      "|Panderichthys rhombolepis|5    |\n",
      "|Greererpeton burkemorani |5    |\n",
      "|Crassigyrinus scoticus   |5    |\n",
      "+-------------------------+-----+\n",
      "only showing top 10 rows\n",
      "\n"
     ]
    }
   ],
   "source": [
    "(ps_tax\n",
    ".groupBy(col(\"vto_label\"))\n",
    ".count()\n",
    ".orderBy(col(\"count\"), ascending=False)\n",
    ").show(10, truncate=False)"
   ]
  },
  {
   "cell_type": "markdown",
   "metadata": {},
   "source": [
    "We need to trim this a bit to avoid multiple joined rows with a distinct. Also, set up the columns to make the join a bit shorter. Note that indexing past the lenght of an array conveniently results in a NULL, not an error."
   ]
  },
  {
   "cell_type": "code",
   "execution_count": 24,
   "metadata": {
    "collapsed": false
   },
   "outputs": [
    {
     "name": "stdout",
     "output_type": "stream",
     "text": [
      "5918\n",
      "+--------------------+-----------+------------+\n",
      "|                 vto|       tok1|        tok2|\n",
      "+--------------------+-----------+------------+\n",
      "|http://purl.oboli...|squaliforma|    squalina|\n",
      "|http://purl.oboli...|   neoarius|    graeffei|\n",
      "|http://purl.oboli...|    cobitis|takatsuensis|\n",
      "+--------------------+-----------+------------+\n",
      "only showing top 3 rows\n",
      "\n"
     ]
    }
   ],
   "source": [
    "ps_tax_split = (ps_tax\n",
    ".select(col(\"vto\"),\n",
    "        lower(split(col(\"vto_label\"), \" \")[0]).alias(\"tok1\"),\n",
    "        lower(split(col(\"vto_label\"), \" \")[1]).alias(\"tok2\"))\n",
    ".distinct()\n",
    ")\n",
    "print(ps_tax_split.count())\n",
    "ps_tax_split.show(3)"
   ]
  },
  {
   "cell_type": "markdown",
   "metadata": {},
   "source": [
    "Join things up"
   ]
  },
  {
   "cell_type": "code",
   "execution_count": null,
   "metadata": {
    "collapsed": true
   },
   "outputs": [],
   "source": [
    "idb_df = sqlContext.read.parquet(\"/guoda/data/idigbio-20171209T023310.parquet\")"
   ]
  },
  {
   "cell_type": "code",
   "execution_count": null,
   "metadata": {
    "collapsed": false,
    "scrolled": true
   },
   "outputs": [],
   "source": [
    "ps_specimen_list = (ps_tax_split\n",
    "                   .join(idb_df.select(col(\"uuid\"), col(\"family\"), col(\"genus\"), col(\"specificepithet\"), col(\"geopoint\")), \n",
    "                        (col(\"tok1\") == col(\"genus\")) & (col(\"tok2\") == col(\"specificepithet\"))\n",
    "                         | (col(\"tok1\") == col(\"family\")),\n",
    "                         \"left\"\n",
    "                        )\n",
    "                    .cache()\n",
    "                   )\n",
    "#ps_specimen_list.show(3)"
   ]
  },
  {
   "cell_type": "code",
   "execution_count": null,
   "metadata": {
    "collapsed": true
   },
   "outputs": [],
   "source": [
    "print(ps_specimen_list.count())"
   ]
  },
  {
   "cell_type": "markdown",
   "metadata": {},
   "source": [
    "How many specimens did we get by taxon?"
   ]
  },
  {
   "cell_type": "code",
   "execution_count": null,
   "metadata": {
    "collapsed": false
   },
   "outputs": [],
   "source": [
    "taxa_counts = (ps_specimen_list\n",
    " .groupBy(col(\"genus\"), col(\"specificepithet\"))\n",
    " .count()\n",
    " .orderBy(col(\"count\"), ascending=False)\n",
    " ).toPandas()\n",
    "#.show(100, truncate=False)"
   ]
  },
  {
   "cell_type": "code",
   "execution_count": null,
   "metadata": {
    "collapsed": false
   },
   "outputs": [],
   "source": [
    "%matplotlib inline\n",
    "taxa_counts.plot(y=\"count\")"
   ]
  },
  {
   "cell_type": "markdown",
   "metadata": {},
   "source": [
    "What is present in Phenoscape that didn't join in iDigBio?"
   ]
  },
  {
   "cell_type": "code",
   "execution_count": null,
   "metadata": {
    "collapsed": false
   },
   "outputs": [],
   "source": [
    "unmatched = (ps_specimen_list\n",
    ".filter(isnull(col(\"uuid\")))\n",
    ".select(col(\"tok1\"), col(\"tok2\"))\n",
    ".orderBy(col(\"tok1\"))\n",
    ")\n",
    "print(unmatched.count())\n",
    "unmatched.show(100, truncate=False)"
   ]
  },
  {
   "cell_type": "code",
   "execution_count": null,
   "metadata": {
    "collapsed": false
   },
   "outputs": [],
   "source": [
    "(ps_specimen_list\n",
    ".select(col(\"uuid\"), col(\"vto\"),\n",
    "        col(\"family\"), col(\"genus\"), col(\"specificepithet\"), \n",
    "        col(\"geopoint.lat\").alias(\"lat\"),\n",
    "        col(\"geopoint.lon\").alias(\"lon\"))\n",
    ".repartition(1)\n",
    ".write\n",
    ".mode('overwrite')\n",
    ".csv(\"/tmp/pheno_specimen.csv\", header=True)\n",
    ")"
   ]
  },
  {
   "cell_type": "code",
   "execution_count": null,
   "metadata": {
    "collapsed": true
   },
   "outputs": [],
   "source": []
  }
 ],
 "metadata": {
  "kernelspec": {
   "display_name": "5 - PySpark Python3 Large",
   "language": "python",
   "name": "pyspark3-large"
  },
  "language_info": {
   "codemirror_mode": {
    "name": "ipython",
    "version": 3
   },
   "file_extension": ".py",
   "mimetype": "text/x-python",
   "name": "python",
   "nbconvert_exporter": "python",
   "pygments_lexer": "ipython3",
   "version": "3.5.2"
  }
 },
 "nbformat": 4,
 "nbformat_minor": 2
}
